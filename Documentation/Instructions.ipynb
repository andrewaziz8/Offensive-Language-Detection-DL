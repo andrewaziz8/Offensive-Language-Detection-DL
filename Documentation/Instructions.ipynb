{
  "nbformat": 4,
  "nbformat_minor": 0,
  "metadata": {
    "colab": {
      "name": "Copy of Instructions.ipynb",
      "provenance": [],
      "collapsed_sections": [],
      "toc_visible": true
    },
    "kernelspec": {
      "name": "python3",
      "display_name": "Python 3"
    },
    "language_info": {
      "name": "python"
    }
  },
  "cells": [
    {
      "cell_type": "code",
      "metadata": {
        "colab": {
          "base_uri": "https://localhost:8080/"
        },
        "id": "jDXRnde0Y4d_",
        "outputId": "09102eef-a1d2-4f2f-b157-66ef9655a98a"
      },
      "source": [
        "!git clone https://github.com/BenchengW/Hate_Speech_Detection_MMAI_894_DL\n",
        "!pip install nlpaug\n",
        "!pip install transformers\n",
        "!pip install textblob\n",
        "import os\n",
        "import sys\n",
        "os.chdir('Hate_Speech_Detection_MMAI_894_DL/src')"
      ],
      "execution_count": 1,
      "outputs": [
        {
          "output_type": "stream",
          "text": [
            "Cloning into 'Hate_Speech_Detection_MMAI_894_DL'...\n",
            "remote: Enumerating objects: 104, done.\u001b[K\n",
            "remote: Counting objects: 100% (104/104), done.\u001b[K\n",
            "remote: Compressing objects: 100% (74/74), done.\u001b[K\n",
            "remote: Total 104 (delta 52), reused 79 (delta 29), pack-reused 0\u001b[K\n",
            "Receiving objects: 100% (104/104), 51.48 MiB | 27.97 MiB/s, done.\n",
            "Resolving deltas: 100% (52/52), done.\n"
          ],
          "name": "stdout"
        }
      ]
    },
    {
      "cell_type": "markdown",
      "metadata": {
        "id": "v-jjbBXvaGa3"
      },
      "source": [
        "## Albert Pretrain Model"
      ]
    },
    {
      "cell_type": "code",
      "metadata": {
        "colab": {
          "base_uri": "https://localhost:8080/",
          "height": 475
        },
        "id": "9f3CfLIYZDFe",
        "outputId": "80dcee1c-e52d-4235-c1f1-bb974af0ba27"
      },
      "source": [
        "from main import Albert_pretrain"
      ],
      "execution_count": 3,
      "outputs": [
        {
          "output_type": "error",
          "ename": "ModuleNotFoundError",
          "evalue": "ignored",
          "traceback": [
            "\u001b[0;31m---------------------------------------------------------------------------\u001b[0m",
            "\u001b[0;31mModuleNotFoundError\u001b[0m                       Traceback (most recent call last)",
            "\u001b[0;32m<ipython-input-3-ee0319bfa67c>\u001b[0m in \u001b[0;36m<module>\u001b[0;34m()\u001b[0m\n\u001b[0;32m----> 1\u001b[0;31m \u001b[0;32mfrom\u001b[0m \u001b[0mmain\u001b[0m \u001b[0;32mimport\u001b[0m \u001b[0mAlbert_pretrain\u001b[0m\u001b[0;34m\u001b[0m\u001b[0;34m\u001b[0m\u001b[0m\n\u001b[0m",
            "\u001b[0;32m/content/Hate_Speech_Detection_MMAI_894_DL/src/main.py\u001b[0m in \u001b[0;36m<module>\u001b[0;34m()\u001b[0m\n\u001b[0;32m----> 1\u001b[0;31m \u001b[0;32mfrom\u001b[0m \u001b[0mPreprocessing_helper\u001b[0m \u001b[0;32mimport\u001b[0m \u001b[0;34m*\u001b[0m\u001b[0;34m\u001b[0m\u001b[0;34m\u001b[0m\u001b[0m\n\u001b[0m\u001b[1;32m      2\u001b[0m \u001b[0;32mfrom\u001b[0m \u001b[0mData_Model_helper\u001b[0m \u001b[0;32mimport\u001b[0m \u001b[0;34m*\u001b[0m\u001b[0;34m\u001b[0m\u001b[0;34m\u001b[0m\u001b[0m\n\u001b[1;32m      3\u001b[0m \u001b[0;32mfrom\u001b[0m \u001b[0mData_Augmentation_n_Sentiment_helper\u001b[0m \u001b[0;32mimport\u001b[0m \u001b[0;34m*\u001b[0m\u001b[0;34m\u001b[0m\u001b[0;34m\u001b[0m\u001b[0m\n\u001b[1;32m      4\u001b[0m \u001b[0;34m\u001b[0m\u001b[0m\n\u001b[1;32m      5\u001b[0m \u001b[0;34m\u001b[0m\u001b[0m\n",
            "\u001b[0;32m/content/Hate_Speech_Detection_MMAI_894_DL/src/Preprocessing_helper.py\u001b[0m in \u001b[0;36m<module>\u001b[0;34m()\u001b[0m\n\u001b[0;32m----> 1\u001b[0;31m \u001b[0;32mimport\u001b[0m \u001b[0mtransformers\u001b[0m\u001b[0;34m\u001b[0m\u001b[0;34m\u001b[0m\u001b[0m\n\u001b[0m\u001b[1;32m      2\u001b[0m \u001b[0;32mimport\u001b[0m \u001b[0mtensorflow\u001b[0m\u001b[0;34m.\u001b[0m\u001b[0mkeras\u001b[0m \u001b[0;32mas\u001b[0m \u001b[0mkeras\u001b[0m\u001b[0;34m\u001b[0m\u001b[0;34m\u001b[0m\u001b[0m\n\u001b[1;32m      3\u001b[0m \u001b[0;32mimport\u001b[0m \u001b[0mpandas\u001b[0m \u001b[0;32mas\u001b[0m \u001b[0mpd\u001b[0m\u001b[0;34m\u001b[0m\u001b[0;34m\u001b[0m\u001b[0m\n\u001b[1;32m      4\u001b[0m \u001b[0;32mimport\u001b[0m \u001b[0mtensorflow\u001b[0m \u001b[0;32mas\u001b[0m \u001b[0mtf\u001b[0m\u001b[0;34m\u001b[0m\u001b[0;34m\u001b[0m\u001b[0m\n\u001b[1;32m      5\u001b[0m \u001b[0;32mimport\u001b[0m \u001b[0mnumpy\u001b[0m \u001b[0;32mas\u001b[0m \u001b[0mnp\u001b[0m\u001b[0;34m\u001b[0m\u001b[0;34m\u001b[0m\u001b[0m\n",
            "\u001b[0;31mModuleNotFoundError\u001b[0m: No module named 'transformers'",
            "",
            "\u001b[0;31m---------------------------------------------------------------------------\u001b[0;32m\nNOTE: If your import is failing due to a missing package, you can\nmanually install dependencies using either !pip or !apt.\n\nTo view examples of installing some common dependencies, click the\n\"Open Examples\" button below.\n\u001b[0;31m---------------------------------------------------------------------------\u001b[0m\n"
          ]
        }
      ]
    },
    {
      "cell_type": "code",
      "metadata": {
        "colab": {
          "base_uri": "https://localhost:8080/"
        },
        "id": "ZjopiiBuZDIV",
        "outputId": "a79aa194-689c-4994-e35d-e82eab28f044"
      },
      "source": [
        "Pretrain = Albert_pretrain()\n",
        "Pretrain.load_albert()"
      ],
      "execution_count": null,
      "outputs": [
        {
          "output_type": "stream",
          "text": [
            "####################################################################################################\n",
            "------------------------      Albert Pretrain Model Loaded Successfully     -----------------------\n",
            "####################################################################################################\n",
            "Below is model summary\n",
            "Model: \"sequential\"\n",
            "_________________________________________________________________\n",
            "Layer (type)                 Output Shape              Param #   \n",
            "=================================================================\n",
            "embedding (Embedding)        (None, 100, 100)          1507000   \n",
            "_________________________________________________________________\n",
            "bidirectional (Bidirectional (None, 100, 200)          160800    \n",
            "_________________________________________________________________\n",
            "bidirectional_1 (Bidirection (None, 100, 200)          240800    \n",
            "_________________________________________________________________\n",
            "flatten (Flatten)            (None, 20000)             0         \n",
            "_________________________________________________________________\n",
            "layer_normalization (LayerNo (None, 20000)             40000     \n",
            "_________________________________________________________________\n",
            "dense (Dense)                (None, 128)               2560128   \n",
            "_________________________________________________________________\n",
            "dropout (Dropout)            (None, 128)               0         \n",
            "_________________________________________________________________\n",
            "layer_normalization_1 (Layer (None, 128)               256       \n",
            "_________________________________________________________________\n",
            "dense_1 (Dense)              (None, 64)                8256      \n",
            "_________________________________________________________________\n",
            "dropout_1 (Dropout)          (None, 64)                0         \n",
            "_________________________________________________________________\n",
            "dense_2 (Dense)              (None, 3)                 195       \n",
            "=================================================================\n",
            "Total params: 4,517,435\n",
            "Trainable params: 4,517,435\n",
            "Non-trainable params: 0\n",
            "_________________________________________________________________\n"
          ],
          "name": "stdout"
        }
      ]
    },
    {
      "cell_type": "code",
      "metadata": {
        "colab": {
          "base_uri": "https://localhost:8080/"
        },
        "id": "K1UC0EmXZDK0",
        "outputId": "ddc1df7d-e4af-47bc-e084-42a0e6f15487"
      },
      "source": [
        "prediction = Pretrain.predict(\"I hate you a lot\")\n",
        "#Pretrain.predict(text_dataframe) or List of text\n",
        "prediction"
      ],
      "execution_count": null,
      "outputs": [
        {
          "output_type": "stream",
          "text": [
            "This is classified as Offensive\n"
          ],
          "name": "stdout"
        }
      ]
    },
    {
      "cell_type": "code",
      "metadata": {
        "colab": {
          "base_uri": "https://localhost:8080/"
        },
        "id": "Gi92dcbgaraP",
        "outputId": "d45ee592-9247-44f4-fb0a-9dd3f7680212"
      },
      "source": [
        "# print(prediction)\n",
        "# print(prediction)"
      ],
      "execution_count": null,
      "outputs": [
        {
          "output_type": "stream",
          "text": [
            "None\n"
          ],
          "name": "stdout"
        }
      ]
    },
    {
      "cell_type": "code",
      "metadata": {
        "colab": {
          "base_uri": "https://localhost:8080/"
        },
        "id": "NT46uMaGZDN1",
        "outputId": "fb2415bb-c8f5-4fe3-d326-645a697cd08b"
      },
      "source": [
        "Pretrain.check_sentiment(\"I reallly hate this one\")"
      ],
      "execution_count": null,
      "outputs": [
        {
          "output_type": "stream",
          "text": [
            "####################################################################################################\n",
            "#\n",
            "#Polarity is float which lies in the range of [-1,1] where 1 means positive statement and -1 means a negative statement.\n",
            "#Subjective sentences generally refer to personal opinion, emotion or judgment also range of [0,1].\n",
            "#\n",
            "####################################################################################################\n",
            "\n",
            "Polarity is -0.8\n",
            "Subjective is 0.9\n"
          ],
          "name": "stdout"
        }
      ]
    },
    {
      "cell_type": "code",
      "metadata": {
        "colab": {
          "base_uri": "https://localhost:8080/"
        },
        "id": "I4BJlRYDZDQN",
        "outputId": "4099ccf7-49e2-4c03-f615-866071991728"
      },
      "source": [
        "Pretrain.doc_augmentation(\"I reallly hate this one\")\n",
        "#Pretrain.corpus_augmentation(text_dataframe)"
      ],
      "execution_count": null,
      "outputs": [
        {
          "output_type": "stream",
          "text": [
            "Original Text:\n",
            "I reallly hate this one\n",
            "Augmented Text:\n",
            "i reallly hate second that half\n"
          ],
          "name": "stdout"
        }
      ]
    },
    {
      "cell_type": "markdown",
      "metadata": {
        "id": "0RxKEY6Zadkd"
      },
      "source": [
        "## Albert Model"
      ]
    },
    {
      "cell_type": "code",
      "metadata": {
        "id": "zQY7G8Fxac_u"
      },
      "source": [
        "from main import *\n",
        "Albert_model = Albert(load_data(), 50, 1)"
      ],
      "execution_count": null,
      "outputs": []
    },
    {
      "cell_type": "code",
      "metadata": {
        "colab": {
          "base_uri": "https://localhost:8080/",
          "height": 1000
        },
        "id": "1mXr2nP1adCP",
        "outputId": "579c0088-8ae7-40e8-b319-b42ac8528702"
      },
      "source": [
        "Albert_model.fit_albert()"
      ],
      "execution_count": null,
      "outputs": [
        {
          "output_type": "stream",
          "text": [
            "Model: \"sequential\"\n",
            "_________________________________________________________________\n",
            "Layer (type)                 Output Shape              Param #   \n",
            "=================================================================\n",
            "embedding (Embedding)        (None, 100, 100)          1507000   \n",
            "_________________________________________________________________\n",
            "bidirectional (Bidirectional (None, 100, 200)          160800    \n",
            "_________________________________________________________________\n",
            "bidirectional_1 (Bidirection (None, 100, 200)          240800    \n",
            "_________________________________________________________________\n",
            "flatten (Flatten)            (None, 20000)             0         \n",
            "_________________________________________________________________\n",
            "layer_normalization (LayerNo (None, 20000)             40000     \n",
            "_________________________________________________________________\n",
            "dense (Dense)                (None, 128)               2560128   \n",
            "_________________________________________________________________\n",
            "dropout (Dropout)            (None, 128)               0         \n",
            "_________________________________________________________________\n",
            "layer_normalization_1 (Layer (None, 128)               256       \n",
            "_________________________________________________________________\n",
            "dense_1 (Dense)              (None, 64)                8256      \n",
            "_________________________________________________________________\n",
            "dropout_1 (Dropout)          (None, 64)                0         \n",
            "_________________________________________________________________\n",
            "dense_2 (Dense)              (None, 3)                 195       \n",
            "=================================================================\n",
            "Total params: 4,517,435\n",
            "Trainable params: 4,517,435\n",
            "Non-trainable params: 0\n",
            "_________________________________________________________________\n",
            "298/298 [==============================] - 226s 728ms/step - loss: 3.0933 - accuracy: 0.3095 - auc: 0.5136 - auc_1: 0.3430 - precision: 0.2461 - recall: 0.0688 - val_loss: 1.2896 - val_accuracy: 0.4678 - val_auc: 0.7937 - val_auc_1: 0.6096 - val_precision: 0.5614 - val_recall: 0.2907\n",
            "####################################################################################################\n",
            "----------------------------      Evaluation on Testing Data     -----------------------------------\n",
            "####################################################################################################\n",
            " \n",
            "                        Hate Speech                          \n",
            "               precision    recall  f1-score   support\n",
            "\n",
            "         0.0       0.96      0.51      0.67      4682\n",
            "         1.0       0.07      0.65      0.13       275\n",
            "\n",
            "    accuracy                           0.52      4957\n",
            "   macro avg       0.52      0.58      0.40      4957\n",
            "weighted avg       0.91      0.52      0.64      4957\n",
            " \n",
            "\n",
            "                       Offensive Speech                       \n",
            "               precision    recall  f1-score   support\n",
            "\n",
            "         0.0       0.30      0.94      0.46      1090\n",
            "         1.0       0.96      0.38      0.54      3867\n",
            "\n",
            "    accuracy                           0.50      4957\n",
            "   macro avg       0.63      0.66      0.50      4957\n",
            "weighted avg       0.81      0.50      0.52      4957\n",
            " \n",
            "                           Neither                            \n",
            "               precision    recall  f1-score   support\n",
            "\n",
            "         0.0       0.97      0.94      0.95      4142\n",
            "         1.0       0.73      0.85      0.78       815\n",
            "\n",
            "    accuracy                           0.92      4957\n",
            "   macro avg       0.85      0.89      0.87      4957\n",
            "weighted avg       0.93      0.92      0.92      4957\n",
            "\n"
          ],
          "name": "stdout"
        },
        {
          "output_type": "display_data",
          "data": {
            "image/png": "[encoded data removed]",
            "text/plain": [
              "<Figure size 1080x360 with 3 Axes>"
            ]
          },
          "metadata": {
            "tags": [],
            "needs_background": "light"
          }
        }
      ]
    },
    {
      "cell_type": "code",
      "metadata": {
        "colab": {
          "base_uri": "https://localhost:8080/"
        },
        "id": "Or6bqR-2adE-",
        "outputId": "a4a1c871-8c03-4570-eee1-72f0d4898477"
      },
      "source": [
        "Albert_model.predict(\"I hate you a lot\")\n",
        "#Pretrain.predict(text_dataframe) or List of text"
      ],
      "execution_count": null,
      "outputs": [
        {
          "output_type": "stream",
          "text": [
            "This is classified as Hate\n"
          ],
          "name": "stdout"
        }
      ]
    },
    {
      "cell_type": "code",
      "metadata": {
        "colab": {
          "base_uri": "https://localhost:8080/"
        },
        "id": "F1YMNLZcadHW",
        "outputId": "e2c0aad4-f90a-464d-e9fc-047121f4797a"
      },
      "source": [
        "Albert_model.check_sentiment(\"I hate you a lot\")\n",
        "#Pretrain.predict(text_dataframe) or List of"
      ],
      "execution_count": null,
      "outputs": [
        {
          "output_type": "stream",
          "text": [
            "####################################################################################################\n",
            "#\n",
            "#Polarity is float which lies in the range of [-1,1] where 1 means positive statement and -1 means a negative statement.\n",
            "#Subjective sentences generally refer to personal opinion, emotion or judgment also range of [0,1].\n",
            "#\n",
            "####################################################################################################\n",
            "\n",
            "Polarity is -0.8\n",
            "Subjective is 0.9\n"
          ],
          "name": "stdout"
        }
      ]
    },
    {
      "cell_type": "code",
      "metadata": {
        "id": "gEccOM6HZDSx"
      },
      "source": [
        ""
      ],
      "execution_count": null,
      "outputs": []
    }
  ]
}
